{
 "cells": [
  {
   "cell_type": "markdown",
   "metadata": {},
   "source": [
    "# Proyecto Sistema de recomendacion de Spotify\n",
    "## Universidad del Valle de Guatemala\n",
    "### Curso: Data Science\n",
    "#### Integrantes del grupo:\n",
    "1. Javier Mombiela\n",
    "2. Jose Hernandez\n",
    "3. Jun Woo\n",
    "4. Andres de la Roca\n",
    "5. Pablo Gonzalez\n",
    "   "
   ]
  },
  {
   "cell_type": "markdown",
   "metadata": {},
   "source": [
    "### Imports del proyecto"
   ]
  },
  {
   "cell_type": "code",
   "execution_count": 2,
   "metadata": {},
   "outputs": [],
   "source": [
    "import pandas as pd\n",
    "import json"
   ]
  },
  {
   "cell_type": "markdown",
   "metadata": {},
   "source": [
    "### Load de la data"
   ]
  },
  {
   "cell_type": "code",
   "execution_count": 3,
   "metadata": {},
   "outputs": [],
   "source": [
    "with open('./data/challenge_set.json', 'r') as file:\n",
    "    data = json.load(file)\n",
    "\n",
    "# Crear un DataFrame a partir de la lista de playlists dentro del diccionario\n",
    "df = pd.DataFrame(data['playlists'])"
   ]
  },
  {
   "cell_type": "markdown",
   "metadata": {},
   "source": [
    "### Transformaciones"
   ]
  },
  {
   "cell_type": "markdown",
   "metadata": {},
   "source": [
    "Volver la seccion de playlist en una lista de listas"
   ]
  },
  {
   "cell_type": "code",
   "execution_count": 4,
   "metadata": {},
   "outputs": [],
   "source": [
    "for index, row in df.iterrows():\n",
    "    tracks = row['tracks']\n",
    "    track_list = []\n",
    "    for track in tracks:\n",
    "        track_list.append([\n",
    "            track['pos'],\n",
    "            track['artist_name'],\n",
    "            track['track_uri'],\n",
    "            track['artist_uri'],\n",
    "            track['track_name'],\n",
    "            track['album_uri'],\n",
    "            track['duration_ms'],\n",
    "            track['album_name']\n",
    "        ])\n",
    "    df.at[index, 'tracks'] = track_list"
   ]
  },
  {
   "cell_type": "markdown",
   "metadata": {},
   "source": [
    "### Visualizar estructrura de la data"
   ]
  },
  {
   "cell_type": "code",
   "execution_count": 5,
   "metadata": {},
   "outputs": [
    {
     "name": "stdout",
     "output_type": "stream",
     "text": [
      "               name  num_holdouts      pid  num_tracks  \\\n",
      "5000         Oldies           111  1000001         136   \n",
      "5001    Study Music           104  1000009         129   \n",
      "5002  Music i like.           139  1000029         164   \n",
      "5003         Disney           147  1000045         172   \n",
      "\n",
      "                                                 tracks  num_samples  \n",
      "5000  [[0, Maze, spotify:track:3kpM8OxeMaaAWI9pErdj1...           25  \n",
      "5001  [[0, Adele, spotify:track:7rPLZ8Krm6CZIbraFUln...           25  \n",
      "5002  [[0, Twenty One Pilots, spotify:track:3CRDbSIZ...           25  \n",
      "5003  [[0, Carmen Twillie, spotify:track:0HU5JnVaKNT...           25  \n"
     ]
    }
   ],
   "source": [
    "filas_5000_5003 = df.iloc[5000:5004]\n",
    "print(filas_5000_5003)"
   ]
  }
 ],
 "metadata": {
  "kernelspec": {
   "display_name": "Python 3",
   "language": "python",
   "name": "python3"
  },
  "language_info": {
   "codemirror_mode": {
    "name": "ipython",
    "version": 3
   },
   "file_extension": ".py",
   "mimetype": "text/x-python",
   "name": "python",
   "nbconvert_exporter": "python",
   "pygments_lexer": "ipython3",
   "version": "3.11.1"
  },
  "orig_nbformat": 4
 },
 "nbformat": 4,
 "nbformat_minor": 2
}
